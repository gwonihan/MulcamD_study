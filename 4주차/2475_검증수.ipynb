{
  "nbformat": 4,
  "nbformat_minor": 0,
  "metadata": {
    "colab": {
      "name": "2475 검증수.ipynb",
      "provenance": [],
      "authorship_tag": "ABX9TyOjHM5gL24o9BorYhty02aZ",
      "include_colab_link": true
    },
    "kernelspec": {
      "name": "python3",
      "display_name": "Python 3"
    },
    "language_info": {
      "name": "python"
    }
  },
  "cells": [
    {
      "cell_type": "markdown",
      "metadata": {
        "id": "view-in-github",
        "colab_type": "text"
      },
      "source": [
        "<a href=\"https://colab.research.google.com/github/gemjh/MulcamD_study/blob/master/4%EC%A3%BC%EC%B0%A8/2475_%EA%B2%80%EC%A6%9D%EC%88%98.ipynb\" target=\"_parent\"><img src=\"https://colab.research.google.com/assets/colab-badge.svg\" alt=\"Open In Colab\"/></a>"
      ]
    },
    {
      "cell_type": "code",
      "execution_count": 1,
      "metadata": {
        "colab": {
          "base_uri": "https://localhost:8080/"
        },
        "id": "D_oqDTdz7n9X",
        "outputId": "41cb6fd0-7dd0-43f4-c3ca-71cdf6e955ac"
      },
      "outputs": [
        {
          "output_type": "stream",
          "name": "stdout",
          "text": [
            "0 4 2 5 6\n",
            "1\n"
          ]
        }
      ],
      "source": [
        "nums=list(map(int,input().split()))\n",
        "nums_mul=[]\n",
        "for i in nums:\n",
        "  n=i**2\n",
        "  nums_mul.append(n)\n",
        "\n",
        "print(sum(nums_mul)%10)"
      ]
    }
  ]
}